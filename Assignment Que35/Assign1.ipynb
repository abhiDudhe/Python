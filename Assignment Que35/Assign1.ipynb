{
 "cells": [
  {
   "cell_type": "code",
   "execution_count": 11,
   "metadata": {},
   "outputs": [
    {
     "name": "stdout",
     "output_type": "stream",
     "text": [
      "List that store INt and float Value only  : [2, 23.3, 34.5, 12]\n"
     ]
    }
   ],
   "source": [
    "# 1.\tCreate the empty list and ask user to enters only int, float elements in the list.\n",
    "\n",
    "def createList():\n",
    "    empty_list = []\n",
    "    \n",
    "    while True:\n",
    "        try:\n",
    "            user_input = input(\"Enter the value (type 'exit' to stop): \")\n",
    "            if user_input.lower() == 'exit':\n",
    "                break\n",
    "            \n",
    "            Element = float(user_input)\n",
    "            if Element.is_integer():\n",
    "                empty_list.append(int(Element))\n",
    "            else:\n",
    "                empty_list.append(Element)\n",
    "                \n",
    "        \n",
    "        except ValueError:\n",
    "            print(\"Invalid input! Please enter a valid number or type 'exit' to quit.\")\n",
    "    \n",
    "    return  empty_list\n",
    "\n",
    "\n",
    "result=createList()\n",
    "print(result)\n",
    "\n",
    "\n",
    "\n",
    "\n"
   ]
  },
  {
   "cell_type": "code",
   "execution_count": 9,
   "metadata": {},
   "outputs": [
    {
     "name": "stdout",
     "output_type": "stream",
     "text": [
      "{'name': 'abhi', 'age': '24'}\n"
     ]
    }
   ],
   "source": [
    "# 2.\tCreate a empty dictionary d1 ask user to enter the values using loop\n",
    "\n",
    "def CreateDict():\n",
    "  d1={}\n",
    "  n=int(input(\"Enter the size of dictionary : \"))\n",
    "  for i in range(n):\n",
    "      takekey=input(\"Enter the key : \")\n",
    "      d1[takekey]=input(\"Enter the value : \")\n",
    "  return f\"dictionary using for loop : {d1}\"\n",
    "\n",
    "result= CreateDict()\n",
    "print(result)\n"
   ]
  },
  {
   "cell_type": "code",
   "execution_count": 2,
   "metadata": {},
   "outputs": [
    {
     "name": "stdout",
     "output_type": "stream",
     "text": [
      "dictionary using comprehensive list : {'name': 'age', 'abhi': '24'}\n"
     ]
    }
   ],
   "source": [
    "# 3.Create a empty dictionary d1 ask user to enter the values using comprehensive list\n",
    "\n",
    "# 1st way\n",
    "def CreateDict():\n",
    "    d1 = {}\n",
    "    n = int(input(\"Enter the number of size of dict: \"))\n",
    "    l1 = [input(f\"Enter key {i+1}: \") for i in range(n)]\n",
    "    l2 = [input(f\"Enter value {i+1}: \") for i in range(n)] \n",
    "    d1=dict(zip(l1,l2))\n",
    "\n",
    "    return f\"dictionary using comprehensive list : {d1}\"\n",
    "\n",
    "result=CreateDict()\n",
    "print(result)"
   ]
  },
  {
   "cell_type": "code",
   "execution_count": 4,
   "metadata": {},
   "outputs": [
    {
     "name": "stdout",
     "output_type": "stream",
     "text": [
      "dictionary using comprehensive dict : {'name': 'abhi', 'age': '24'}\n"
     ]
    }
   ],
   "source": [
    "# 3. Create a empty dictionary d1 ask user to enter the values using comprehensive list\n",
    "\n",
    "#2nd way\n",
    "def CreateDict():\n",
    "    d1 = {}\n",
    "    n = int(input(\"Enter the number of size of dict: \"))\n",
    "    d1 = {input(f\"Enter key : \"): input(f\"Enter value : \") for i in range(n)}\n",
    "    return f\"dictionary using comprehensive dict : {d1}\"\n",
    "\n",
    "result=CreateDict()\n",
    "print(result)\n",
    "\n",
    "\n"
   ]
  },
  {
   "cell_type": "code",
   "execution_count": 1,
   "metadata": {},
   "outputs": [
    {
     "name": "stdout",
     "output_type": "stream",
     "text": [
      "Invalid input! Please enter a numeric value.\n"
     ]
    }
   ],
   "source": [
    "# 4.Create a function which will accept two integer or float parameter from user and return 4 arithmetic operations in the form of tuple. If user pass argument other than integer and float then error should be created.\n",
    "\n",
    "def claculator(a,b):\n",
    "  addition=a+b\n",
    "  substraction=a-b\n",
    "  \n",
    "  multiplication=a*b\n",
    "  try:\n",
    "      floordivision=a//b\n",
    "  except (ZeroDivisionError):\n",
    "         print('Please enter number greater than zero')\n",
    "         floordivision=0\n",
    "  return (addition,substraction,multiplication,floordivision)\n",
    "\n",
    "\n",
    "try:\n",
    "    a=float(input(\"Enter the First number : \"))\n",
    "    b=float(input(\"Enter the second number : \"))\n",
    "    if a.is_integer():\n",
    "          a=int(a)\n",
    "          \n",
    "    if b.is_integer():\n",
    "          b=int(b)\n",
    "          \n",
    "    result=claculator(a,b)\n",
    "    print(result) \n",
    "                \n",
    "except ValueError:\n",
    "            print(\"Invalid input! Please enter a numeric value.\")\n",
    "   \n",
    "\n"
   ]
  },
  {
   "cell_type": "code",
   "execution_count": 45,
   "metadata": {},
   "outputs": [
    {
     "name": "stdout",
     "output_type": "stream",
     "text": [
      "72\n",
      "72\n"
     ]
    }
   ],
   "source": [
    "# 5.\t Based on the above function (Question number 4) dived the outcome of multiplication by 2.\n",
    "\n",
    "# 1st way\n",
    "muloutcome=result[2]\n",
    "division=muloutcome//2\n",
    "print(division)\n",
    "\n",
    "#2nd way  using unbound concept\n",
    "addNum,SubNum,MulNum,DivNum=claculator(a,b)\n",
    "division=MulNum//2\n",
    "print(division)"
   ]
  },
  {
   "cell_type": "code",
   "execution_count": null,
   "metadata": {},
   "outputs": [],
   "source": [
    "# 6.create a function to add only string element in a list. if other than string display the appropriate message.\n",
    "\n",
    "#1st way\n",
    "# define function\n",
    "def addOnlyString(onlyStringList):\n",
    "    while True:\n",
    "        try:\n",
    "            uInput = input(\"Enter the value (type 'Exit' to stop): \")\n",
    "            if uInput.lower() == \"exit\":  \n",
    "                break\n",
    "            if uInput.isalpha():\n",
    "                onlyStringList.append(uInput)\n",
    "            else:\n",
    "                print(\"Invalid input! Please enter only string values (letters only).\")\n",
    "        except Exception as e:\n",
    "            print(f\"An error occurred: {e}\")\n",
    "\n",
    "    return onlyStringList\n",
    "# create empty liist \n",
    "onlyStringList = []\n",
    "# func call\n",
    "result = addOnlyString(onlyStringList)\n",
    "print(\"List of Strings:\", result)\n"
   ]
  },
  {
   "cell_type": "code",
   "execution_count": 66,
   "metadata": {},
   "outputs": [
    {
     "name": "stdout",
     "output_type": "stream",
     "text": [
      " Error: \"12\" is not a string and cannot be added.\n",
      " Error: \"13\" is not a string and cannot be added.\n",
      " Error: \"[1, 2, 3, 4]\" is not a string and cannot be added.\n",
      "['Abhi', 'Dudhe']\n"
     ]
    }
   ],
   "source": [
    "# 6.\tcreate a function to add only string element in a list. if other than string display the appropriate message.\n",
    "\n",
    "# 2st way \n",
    "def addOnlyString(*element):\n",
    "  list1=[]\n",
    "  for i in element:\n",
    "    \n",
    "    if type(i)==str:\n",
    "      list1.append(i)\n",
    "      \n",
    "    else:\n",
    "         print(f' Error: \"{i}\" is not a string and cannot be added.')\n",
    "  return list1\n",
    "  \n",
    "   \n",
    "result=addOnlyString(12,13,'Abhi','Dudhe',[1,2,3,4])\n",
    "print(result)\n",
    "\n",
    "\n",
    "# 3rd way\n",
    "def addOnlyString(*element):\n",
    "  list1=[]\n",
    "  for i in element:\n",
    "    \n",
    "    if isinstance(i,str):\n",
    "      list1.append(i)\n",
    "      \n",
    "    else:\n",
    "         print(f' Error: \"{i}\" is not a string and cannot be added.')\n",
    "  return list1\n",
    "  \n",
    "   \n",
    "\n",
    "result=addOnlyString(12,13,'Abhi','Dudhe',[1,2,3,4])\n",
    "print(result)\n"
   ]
  },
  {
   "cell_type": "code",
   "execution_count": 5,
   "metadata": {},
   "outputs": [
    {
     "name": "stdout",
     "output_type": "stream",
     "text": [
      "File closed successfully.\n",
      "{'total_lines': 7, 'total_words': 118}\n"
     ]
    }
   ],
   "source": [
    "# 7.\tCreate a function to read the file and return the dictionary of total lines, total words\n",
    "\n",
    "def countFileLinesWords(file_path):\n",
    "    count_dict = {}\n",
    "\n",
    "    try:\n",
    "        file = open(file_path, \"r\")\n",
    "        lines = file.readlines()\n",
    "        total_lines = len(lines)\n",
    "        total_words = sum(len(line.split()) for line in lines)  # Count words \n",
    "        \n",
    "        count_dict[\"total_lines\"] = total_lines\n",
    "        count_dict[\"total_words\"] = total_words\n",
    "    \n",
    "    except FileNotFoundError:\n",
    "        print(f\"Error: The file '{file_path}' was not found.\")\n",
    "        return None\n",
    "    except Exception as e:\n",
    "        print(f\"An unexpected error occurred: {e}\")\n",
    "        return None\n",
    "    finally:\n",
    "        if 'file' in locals() and not file.closed:\n",
    "            file.close()\n",
    "            print(\"File closed successfully.\")\n",
    "\n",
    "    return count_dict\n",
    "\n",
    "\n",
    "file_path = r\"C:\\Users\\USer\\Desktop\\AbhiIntro.txt\"\n",
    "result = countFileLinesWords(file_path)\n",
    "\n",
    "print(result)\n"
   ]
  },
  {
   "cell_type": "code",
   "execution_count": 2,
   "metadata": {},
   "outputs": [
    {
     "name": "stdout",
     "output_type": "stream",
     "text": [
      "key :  name, value : abhi\n",
      "key :  age , value : 18\n"
     ]
    }
   ],
   "source": [
    "# 8.\tCreate a function which will accept the dictionary and display key values in separate line.\n",
    "\n",
    "def seprateEle(dict1):\n",
    "  for key,value in dict1.items():\n",
    "    print(f\"key :  {key}, value : {value}\")\n",
    "\n",
    "\n",
    "dict1={}\n",
    "n=int(input(\"Enter the number of items in dictionary : \"))\n",
    "for i in range(n):\n",
    "  takekey=input(\"Enter the key : \")\n",
    "  dict1[takekey]=input(\"Enter the value : \")\n",
    "\n",
    "seprateEle(dict1)\n"
   ]
  },
  {
   "cell_type": "code",
   "execution_count": 6,
   "metadata": {},
   "outputs": [
    {
     "name": "stdout",
     "output_type": "stream",
     "text": [
      "key: name, value: abhi\n",
      "key: age, value: 24\n"
     ]
    }
   ],
   "source": [
    "# 9. Create a lambda function which will accept the dictionary and display key values in separate line.\n",
    "\n",
    "n = int(input(\"Enter the number of items in dictionary: \"))\n",
    "\n",
    "dict1 = {input(\"Enter the key: \"): input(\"Enter the value: \") for _ in range(n)}\n",
    "\n",
    "# Lambda function to print  dict items  \n",
    "display_dict = lambda d: [f\"key: {k}, value: {v}\" for k, v in d.items()]\n",
    "\n",
    "# Calling the lambda function\n",
    "result=display_dict(dict1)\n",
    "result=[print(x) for x in result]\n"
   ]
  },
  {
   "cell_type": "code",
   "execution_count": 11,
   "metadata": {},
   "outputs": [
    {
     "name": "stdout",
     "output_type": "stream",
     "text": [
      "True\n"
     ]
    }
   ],
   "source": [
    "# 10. Create a function to validate the password.\n",
    "\n",
    "import re\n",
    "\n",
    "is_valid_password = lambda p: (all(re.search(r, p) for r in [r'[a-z]', r'[A-Z]', r'[0-9]', r'[^a-zA-Z0-9,\\'\"]'])\n",
    "                               or \"Invalid password: Must contain at least one lowercase, uppercase, digit, and special character.\")\n",
    "\n",
    "# Example usage\n",
    "print(is_valid_password(\"Mswb@aLhi2002\"))  # valid password example\n",
    "print(is_valid_password(\"onlylowercase\"))  # Invalid password example\n",
    "print(is_valid_password(\"ONLYUPPERCASE\"))  # Invalid password example\n",
    "\n",
    " \n"
   ]
  },
  {
   "cell_type": "code",
   "execution_count": 8,
   "metadata": {},
   "outputs": [
    {
     "name": "stdout",
     "output_type": "stream",
     "text": [
      "120\n",
      "Input must be a natural number (positive integer).\n",
      "Input must be a natural number (positive integer).\n",
      "Input must be a natural number (positive integer).\n"
     ]
    }
   ],
   "source": [
    "# 11.\tGenerate a decorator having logic to accept natural numbers . which can be used in a function of factorial\n",
    "#decorator to validate the natural numbers\n",
    "\n",
    "def naturalNumberValidator(func):\n",
    "    def inner(n):\n",
    "        try:\n",
    "            if not isinstance(n, int) or n < 1:\n",
    "                raise ValueError(\"Input must be a natural number (positive integer).\")\n",
    "            return func(n)\n",
    "        except ValueError as e:\n",
    "            return str(e)\n",
    "    return inner\n",
    "# calling  decorator \n",
    "@naturalNumberValidator\n",
    "# func for factorial\n",
    "def factorial(n):\n",
    "    result = 1\n",
    "    for i in range(1, n + 1):\n",
    "        result *= i\n",
    "    return result\n",
    "\n",
    "#calling function\n",
    "print(factorial(5))  # valid input\n",
    "print(factorial(0)) # invalid input\n",
    "print(factorial(-3)) #invalid input\n",
    "print(factorial(3.5))#invalid input\n",
    "\n"
   ]
  },
  {
   "cell_type": "code",
   "execution_count": 12,
   "metadata": {},
   "outputs": [
    {
     "name": "stdout",
     "output_type": "stream",
     "text": [
      "Garden is closed. Visit between 7 AM and 7 PM.\n"
     ]
    }
   ],
   "source": [
    "# 12.\tGenerate the decorator for a Garden visit to check if current time is between 7am to 7pm.  If true the only call the function else generate the error. \n",
    "\n",
    "import datetime\n",
    "# decorator for \n",
    "def gardenVisitValidator(func):\n",
    "  def innerfunc(*args, **kwargs):\n",
    "    currentTime = datetime.datetime.now().time()\n",
    "    openingTime = datetime.time(7, 0, 0)\n",
    "    closingTime = datetime.time(19, 0, 0)\n",
    "\n",
    "    if openingTime <= currentTime <= closingTime:\n",
    "      return func(*args, **kwargs)\n",
    "    else:\n",
    "      raise ValueError(\"Garden is closed. Visit between 7 AM and 7 PM.\")\n",
    "  return innerfunc\n",
    "# a.\tFunction payment_check() is active only within given time span and it will check for all user transaction in that given month.\n",
    "@gardenVisitValidator\n",
    "def payment_check(user_id, month):\n",
    "  print(f\"Checking transactions for user {user_id} in {month}\")\n",
    "  return f\"Payment check complete for user {user_id}\"\n",
    "\n",
    "# b.\tFunction entry() will be perform entry transaction of the user\n",
    "@gardenVisitValidator\n",
    "def entry(user_id):\n",
    "  entryTime = datetime.datetime.now()\n",
    "  print(f\"User {user_id} entered the garden at {entryTime}\")\n",
    "  return f\"User {user_id} entry recorded\"\n",
    "\n",
    "# c.\tFunction exit() will update the outtime of the user if entry exists  \n",
    "@gardenVisitValidator\n",
    "def exit(user_id):\n",
    "    exitTime = datetime.datetime.now()\n",
    "    print(f\"User {user_id} exited the garden at {exitTime}\")\n",
    "    return f\"User {user_id} exit recorded\"\n",
    "\n",
    "\n",
    "\n",
    "try:\n",
    "  #calling Function\n",
    "    print(payment_check(123, \"October\"))  \n",
    "    print(entry(456))\n",
    "    print(exit(456))\n",
    "except ValueError as e:\n",
    "    print(e)\n",
    "\n"
   ]
  },
  {
   "cell_type": "code",
   "execution_count": 50,
   "metadata": {},
   "outputs": [
    {
     "name": "stdout",
     "output_type": "stream",
     "text": [
      "adegnr\n",
      "ehllo\n"
     ]
    }
   ],
   "source": [
    "# 13.\tCreate lambda function for sorting of the string\n",
    "\n",
    "sort_string = lambda s: \"\".join(sorted(list(s)))\n",
    "\n",
    "print(sort_string(\"garden\"))  \n",
    "print(sort_string(\"hello\")) "
   ]
  },
  {
   "cell_type": "code",
   "execution_count": 63,
   "metadata": {},
   "outputs": [
    {
     "name": "stdout",
     "output_type": "stream",
     "text": [
      "ABC0001\n",
      "ABC0002\n"
     ]
    }
   ],
   "source": [
    "# 14.\tCreate a generator which will generate runtime unique value as  ABC0001, ABC0002, ABC0003…\n",
    " \n",
    "def uniqueValueGenerator(prefix,ranges):\n",
    "    num = 1\n",
    "    while True:\n",
    "        yield f\"{prefix}{num:04d}\"\n",
    "        num += 1\n",
    "\n",
    "# Example usage\n",
    "num=int(input(\"Enter how many unique value you : \"))\n",
    "generator = uniqueValueGenerator(\"ABC\",num)\n",
    "\n",
    "for _ in range(num):\n",
    "    print(next(generator))\n",
    "  \n"
   ]
  },
  {
   "cell_type": "code",
   "execution_count": null,
   "metadata": {},
   "outputs": [],
   "source": []
  }
 ],
 "metadata": {
  "kernelspec": {
   "display_name": "Python 3",
   "language": "python",
   "name": "python3"
  },
  "language_info": {
   "codemirror_mode": {
    "name": "ipython",
    "version": 3
   },
   "file_extension": ".py",
   "mimetype": "text/x-python",
   "name": "python",
   "nbconvert_exporter": "python",
   "pygments_lexer": "ipython3",
   "version": "3.12.6"
  }
 },
 "nbformat": 4,
 "nbformat_minor": 2
}
