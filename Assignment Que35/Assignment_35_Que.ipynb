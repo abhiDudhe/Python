{
 "cells": [
  {
   "cell_type": "code",
   "execution_count": 119,
   "metadata": {},
   "outputs": [
    {
     "name": "stdout",
     "output_type": "stream",
     "text": [
      "[1, 2, 3, 3.5, 4.6, 5.6, 8.7, 9]\n"
     ]
    }
   ],
   "source": [
    "# 1. Create the empty list and ask user to enters only int, float elements in the list.\n",
    "\n",
    "def createList():\n",
    "    empty_list = []\n",
    "    \n",
    "    while True:\n",
    "        try:\n",
    "            user_input = input(\"Enter the value (type 'exit' to stop): \")\n",
    "            if user_input.lower() == 'exit':\n",
    "                break\n",
    "            \n",
    "            Element = float(user_input)\n",
    "            if Element.is_integer():\n",
    "                empty_list.append(int(Element))\n",
    "            else:\n",
    "                empty_list.append(Element)\n",
    "                \n",
    "        \n",
    "        except ValueError:\n",
    "            print(\"Invalid input! Please enter a valid number or type 'exit' to quit.\")\n",
    "    \n",
    "    return  empty_list\n",
    "\n",
    "\n",
    "result=createList()\n",
    "print(result)\n",
    "\n",
    "\n",
    "\n",
    "\n"
   ]
  },
  {
   "cell_type": "code",
   "execution_count": 9,
   "metadata": {},
   "outputs": [
    {
     "name": "stdout",
     "output_type": "stream",
     "text": [
      "{'name': 'abhi', 'age': '24'}\n"
     ]
    }
   ],
   "source": [
    "# 2. Create a empty dictionary d1 ask user to enter the values using loop\n",
    "\n",
    "def CreateDict():\n",
    "  d1={}\n",
    "  n=int(input(\"Enter the size of dictionary : \"))\n",
    "  for i in range(n):\n",
    "      takekey=input(\"Enter the key : \")\n",
    "      d1[takekey]=input(\"Enter the value : \")\n",
    "  return f\"dictionary using for loop : {d1}\"\n",
    "\n",
    "result= CreateDict()\n",
    "print(result)\n"
   ]
  },
  {
   "cell_type": "code",
   "execution_count": 2,
   "metadata": {},
   "outputs": [
    {
     "name": "stdout",
     "output_type": "stream",
     "text": [
      "dictionary using comprehensive list : {'name': 'age', 'abhi': '24'}\n"
     ]
    }
   ],
   "source": [
    "# 3. Create a empty dictionary d1 ask user to enter the values using comprehensive list\n",
    "\n",
    "# 1st way\n",
    "def CreateDict():\n",
    "    d1 = {}\n",
    "    n = int(input(\"Enter the number of size of dict: \"))\n",
    "    l1 = [input(f\"Enter key {i+1}: \") for i in range(n)]\n",
    "    l2 = [input(f\"Enter value {i+1}: \") for i in range(n)] \n",
    "    d1=dict(zip(l1,l2))\n",
    "\n",
    "    return f\"dictionary using comprehensive list : {d1}\"\n",
    "\n",
    "result=CreateDict()\n",
    "print(result)"
   ]
  },
  {
   "cell_type": "code",
   "execution_count": 4,
   "metadata": {},
   "outputs": [
    {
     "name": "stdout",
     "output_type": "stream",
     "text": [
      "dictionary using comprehensive dict : {'name': 'abhi', 'age': '24'}\n"
     ]
    }
   ],
   "source": [
    "# 3. Create a empty dictionary d1 ask user to enter the values using comprehensive list\n",
    "\n",
    "#2nd way\n",
    "def CreateDict():\n",
    "    d1 = {}\n",
    "    n = int(input(\"Enter the number of size of dict: \"))\n",
    "    d1 = {input(f\"Enter key : \"): input(f\"Enter value : \") for i in range(n)}\n",
    "    return f\"dictionary using comprehensive dict : {d1}\"\n",
    "\n",
    "result=CreateDict()\n",
    "print(result)\n",
    "\n",
    "\n"
   ]
  },
  {
   "cell_type": "code",
   "execution_count": 1,
   "metadata": {},
   "outputs": [
    {
     "name": "stdout",
     "output_type": "stream",
     "text": [
      "Invalid input! Please enter a numeric value.\n"
     ]
    }
   ],
   "source": [
    "# 4. Create a function which will accept two integer or float parameter from user and return 4 arithmetic operations in the form of tuple. If user pass argument other than integer and float then error should be created.\n",
    "\n",
    "def claculator(a,b):\n",
    "  addition=a+b\n",
    "  substraction=a-b\n",
    "  \n",
    "  multiplication=a*b\n",
    "  try:\n",
    "      floordivision=a//b\n",
    "  except (ZeroDivisionError):\n",
    "         print('Please enter number greater than zero')\n",
    "         floordivision=0\n",
    "  return (addition,substraction,multiplication,floordivision)\n",
    "\n",
    "\n",
    "try:\n",
    "    a=float(input(\"Enter the First number : \"))\n",
    "    b=float(input(\"Enter the second number : \"))\n",
    "    if a.is_integer():\n",
    "          a=int(a)\n",
    "          \n",
    "    if b.is_integer():\n",
    "          b=int(b)\n",
    "          \n",
    "    result=claculator(a,b)\n",
    "    print(result) \n",
    "                \n",
    "except ValueError:\n",
    "            print(\"Invalid input! Please enter a numeric value.\")\n",
    "   \n",
    "\n"
   ]
  },
  {
   "cell_type": "code",
   "execution_count": 45,
   "metadata": {},
   "outputs": [
    {
     "name": "stdout",
     "output_type": "stream",
     "text": [
      "72\n",
      "72\n"
     ]
    }
   ],
   "source": [
    "# 5. Based on the above function (Question number 4) dived the outcome of multiplication by 2.\n",
    "\n",
    "# 1st way\n",
    "muloutcome=result[2]\n",
    "division=muloutcome//2\n",
    "print(division)\n",
    "\n",
    "#2nd way  using unbound concept\n",
    "addNum,SubNum,MulNum,DivNum=claculator(a,b)\n",
    "division=MulNum//2\n",
    "print(division)"
   ]
  },
  {
   "cell_type": "code",
   "execution_count": 120,
   "metadata": {},
   "outputs": [
    {
     "name": "stdout",
     "output_type": "stream",
     "text": [
      "Invalid input! Please enter only string values (letters only).\n",
      "List of Strings: ['wdddj', 'ddf', 'fccb']\n"
     ]
    }
   ],
   "source": [
    "# 6. create a function to add only string element in a list. if other than string display the appropriate message.\n",
    "\n",
    "#1st way\n",
    "# define function\n",
    "def addOnlyString(onlyStringList):\n",
    "    while True:\n",
    "        try:\n",
    "            uInput = input(\"Enter the value (type 'Exit' to stop): \")\n",
    "            if uInput.lower() == \"exit\":  \n",
    "                break\n",
    "            if uInput.isalpha():\n",
    "                onlyStringList.append(uInput)\n",
    "            else:\n",
    "                print(\"Invalid input! Please enter only string values (letters only).\")\n",
    "        except Exception as e:\n",
    "            print(f\"An error occurred: {e}\")\n",
    "\n",
    "    return onlyStringList\n",
    "# create empty liist \n",
    "onlyStringList = []\n",
    "# func call\n",
    "result = addOnlyString(onlyStringList)\n",
    "print(\"List of Strings:\", result)\n"
   ]
  },
  {
   "cell_type": "code",
   "execution_count": 122,
   "metadata": {},
   "outputs": [
    {
     "name": "stdout",
     "output_type": "stream",
     "text": [
      " Error: \"12\" is not a string and cannot be added.\n",
      " Error: \"13\" is not a string and cannot be added.\n",
      " Error: \"[1, 2, 3, 4]\" is not a string and cannot be added.\n",
      "['Abhi', 'Dudhe']\n",
      " Error: \"12\" is not a string and cannot be added.\n",
      " Error: \"13\" is not a string and cannot be added.\n",
      " Error: \"[1, 2, 3, 4]\" is not a string and cannot be added.\n",
      "['hello', 'world']\n"
     ]
    }
   ],
   "source": [
    "# 6. create a function to add only string element in a list. if other than string display the appropriate message.\n",
    "\n",
    "# 2st way \n",
    "def addOnlyString(*element):\n",
    "  list1=[]\n",
    "  for i in element:\n",
    "    \n",
    "    if type(i)==str:\n",
    "      list1.append(i)\n",
    "      \n",
    "    else:\n",
    "         print(f' Error: \"{i}\" is not a string and cannot be added.')\n",
    "  return list1\n",
    "  \n",
    "   \n",
    "result=addOnlyString(12,13,'Abhi','Dudhe',[1,2,3,4])\n",
    "print(result)\n",
    "\n",
    "\n",
    "# 3rd way\n",
    "def addOnlyString(*element):\n",
    "  list1=[]\n",
    "  for i in element:\n",
    "    \n",
    "    if isinstance(i,str):\n",
    "      list1.append(i)\n",
    "      \n",
    "    else:\n",
    "         print(f' Error: \"{i}\" is not a string and cannot be added.')\n",
    "  return list1\n",
    "  \n",
    "   \n",
    "\n",
    "result=addOnlyString(12,13,'hello','world',[1,2,3,4])\n",
    "print(result)\n"
   ]
  },
  {
   "cell_type": "code",
   "execution_count": 126,
   "metadata": {},
   "outputs": [
    {
     "name": "stdout",
     "output_type": "stream",
     "text": [
      "File closed successfully.\n",
      "{'total_lines': 5, 'total_words': 375}\n"
     ]
    }
   ],
   "source": [
    "# 7. Create a function to read the file and return the dictionary of total lines, total words\n",
    "\n",
    "def countFileLinesWords(file_path):\n",
    "    count_dict = {}\n",
    "\n",
    "    try:\n",
    "        file = open(file_path, \"r\")\n",
    "        lines = file.readlines()\n",
    "        total_lines = len(lines)\n",
    "        total_words = sum(len(line.split()) for line in lines)  # Count words \n",
    "        \n",
    "        count_dict[\"total_lines\"] = total_lines\n",
    "        count_dict[\"total_words\"] = total_words\n",
    "    \n",
    "    except FileNotFoundError:\n",
    "        print(f\"Error: The file '{file_path}' was not found.\")\n",
    "        return None\n",
    "    except Exception as e:\n",
    "        print(f\"An unexpected error occurred: {e}\")\n",
    "        return None\n",
    "    finally:\n",
    "        if 'file' in locals() and not file.closed:\n",
    "            file.close()\n",
    "            print(\"File closed successfully.\")\n",
    "\n",
    "    return count_dict\n",
    "\n",
    "\n",
    "file_path = r\"D:\\GIT_biz\\Python\\Assignment Que35\\test1.txt\"\n",
    "result = countFileLinesWords(file_path)\n",
    "\n",
    "print(result)\n"
   ]
  },
  {
   "cell_type": "code",
   "execution_count": 2,
   "metadata": {},
   "outputs": [
    {
     "name": "stdout",
     "output_type": "stream",
     "text": [
      "key :  name, value : abhi\n",
      "key :  age , value : 18\n"
     ]
    }
   ],
   "source": [
    "# 8. Create a function which will accept the dictionary and display key values in separate line.\n",
    "\n",
    "def seprateEle(dict1):\n",
    "  for key,value in dict1.items():\n",
    "    print(f\"key :  {key}, value : {value}\")\n",
    "\n",
    "\n",
    "dict1={}\n",
    "n=int(input(\"Enter the number of items in dictionary : \"))\n",
    "for i in range(n):\n",
    "  takekey=input(\"Enter the key : \")\n",
    "  dict1[takekey]=input(\"Enter the value : \")\n",
    "\n",
    "seprateEle(dict1)\n"
   ]
  },
  {
   "cell_type": "code",
   "execution_count": 6,
   "metadata": {},
   "outputs": [
    {
     "name": "stdout",
     "output_type": "stream",
     "text": [
      "key: name, value: abhi\n",
      "key: age, value: 24\n"
     ]
    }
   ],
   "source": [
    "# 9. Create a lambda function which will accept the dictionary and display key values in separate line.\n",
    "\n",
    "n = int(input(\"Enter the number of items in dictionary: \"))\n",
    "\n",
    "dict1 = {input(\"Enter the key: \"): input(\"Enter the value: \") for _ in range(n)}\n",
    "\n",
    "# Lambda function to print  dict items  \n",
    "display_dict = lambda d: [f\"key: {k}, value: {v}\" for k, v in d.items()]\n",
    "\n",
    "# Calling the lambda function\n",
    "result=display_dict(dict1)\n",
    "result=[print(x) for x in result]\n"
   ]
  },
  {
   "cell_type": "code",
   "execution_count": 11,
   "metadata": {},
   "outputs": [
    {
     "name": "stdout",
     "output_type": "stream",
     "text": [
      "True\n"
     ]
    }
   ],
   "source": [
    "# 10. Create a function to validate the password.\n",
    "\n",
    "import re\n",
    "\n",
    "is_valid_password = lambda p: (all(re.search(r, p) for r in [r'[a-z]', r'[A-Z]', r'[0-9]', r'[^a-zA-Z0-9,\\'\"]'])\n",
    "                               or \"Invalid password: Must contain at least one lowercase, uppercase, digit, and special character.\")\n",
    "\n",
    "# Example usage\n",
    "print(is_valid_password(\"Mswb@aLhi2002\"))  # valid password example\n",
    "print(is_valid_password(\"onlylowercase\"))  # Invalid password example\n",
    "print(is_valid_password(\"ONLYUPPERCASE\"))  # Invalid password example\n",
    "\n",
    " \n"
   ]
  },
  {
   "cell_type": "code",
   "execution_count": 8,
   "metadata": {},
   "outputs": [
    {
     "name": "stdout",
     "output_type": "stream",
     "text": [
      "120\n",
      "Input must be a natural number (positive integer).\n",
      "Input must be a natural number (positive integer).\n",
      "Input must be a natural number (positive integer).\n"
     ]
    }
   ],
   "source": [
    "# 11. Generate a decorator having logic to accept natural numbers . which can be used in a function of factorial\n",
    "#decorator to validate the natural numbers\n",
    "\n",
    "def naturalNumberValidator(func):\n",
    "    def inner(n):\n",
    "        try:\n",
    "            if not isinstance(n, int) or n < 1:\n",
    "                raise ValueError(\"Input must be a natural number (positive integer).\")\n",
    "            return func(n)\n",
    "        except ValueError as e:\n",
    "            return str(e)\n",
    "    return inner\n",
    "# calling  decorator \n",
    "@naturalNumberValidator\n",
    "# func for factorial\n",
    "def factorial(n):\n",
    "    result = 1\n",
    "    for i in range(1, n + 1):\n",
    "        result *= i\n",
    "    return result\n",
    "\n",
    "#calling function\n",
    "print(factorial(5))  # valid input\n",
    "print(factorial(0)) # invalid input\n",
    "print(factorial(-3)) #invalid input\n",
    "print(factorial(3.5))#invalid input\n",
    "\n"
   ]
  },
  {
   "cell_type": "code",
   "execution_count": 2,
   "metadata": {},
   "outputs": [
    {
     "name": "stdout",
     "output_type": "stream",
     "text": [
      "Checking transactions for user 123 in October\n",
      "Payment check complete for user 123\n",
      "User 456 entered the garden at 2025-02-15 10:08:05.683129\n",
      "User 456 entry recorded\n",
      "User 456 exited the garden at 2025-02-15 10:08:05.683129\n",
      "User 456 exit recorded\n"
     ]
    }
   ],
   "source": [
    "# 12.\tGenerate the decorator for a Garden visit to check if current time is between 7am to 7pm.  If true the only call the function else generate the error. \n",
    "\n",
    "import datetime\n",
    "# decorator for \n",
    "def gardenVisitValidator(func):\n",
    "  def innerfunc(*inputs, **options):\n",
    "    currentTime = datetime.datetime.now().time()\n",
    "    openingTime = datetime.time(7, 0, 0)\n",
    "    closingTime = datetime.time(19, 0, 0)\n",
    "\n",
    "    if openingTime <= currentTime <= closingTime:\n",
    "      return func(*inputs, **options)\n",
    "    else:\n",
    "      raise ValueError(\"Garden is closed. Visit between 7 AM and 7 PM.\")\n",
    "  return innerfunc\n",
    "# a. Function payment_check() is active only within given time span and it will check for all user transaction in that given month.\n",
    "@gardenVisitValidator\n",
    "def payment_check(user_id, month):\n",
    "  print(f\"Checking transactions for user {user_id} in {month}\")\n",
    "  return f\"Payment check complete for user {user_id}\"\n",
    "\n",
    "# b. Function entry() will be perform entry transaction of the user\n",
    "@gardenVisitValidator\n",
    "def entry(user_id):\n",
    "  entryTime = datetime.datetime.now()\n",
    "  print(f\"User {user_id} entered the garden at {entryTime}\")\n",
    "  return f\"User {user_id} entry recorded\"\n",
    "\n",
    "# c. Function exit() will update the outtime of the user if entry exists  \n",
    "@gardenVisitValidator\n",
    "def exit(user_id):\n",
    "    exitTime = datetime.datetime.now()\n",
    "    print(f\"User {user_id} exited the garden at {exitTime}\")\n",
    "    return f\"User {user_id} exit recorded\"\n",
    "\n",
    "\n",
    "\n",
    "try:\n",
    "  #calling Function\n",
    "    print(payment_check(123, \"October\"))  \n",
    "    print(entry(456))\n",
    "    print(exit(456))\n",
    "except ValueError as e:\n",
    "    print(e)\n",
    "\n"
   ]
  },
  {
   "cell_type": "code",
   "execution_count": 50,
   "metadata": {},
   "outputs": [
    {
     "name": "stdout",
     "output_type": "stream",
     "text": [
      "adegnr\n",
      "ehllo\n"
     ]
    }
   ],
   "source": [
    "# 13. Create lambda function for sorting of the string\n",
    "\n",
    "sort_string = lambda s: \"\".join(sorted(list(s)))\n",
    "\n",
    "print(sort_string(\"garden\"))  \n",
    "print(sort_string(\"hello\")) "
   ]
  },
  {
   "cell_type": "code",
   "execution_count": 1,
   "metadata": {},
   "outputs": [
    {
     "name": "stdout",
     "output_type": "stream",
     "text": [
      "ABC0001\n",
      "ABC0002\n",
      "ABC0003\n",
      "ABC0004\n",
      "ABC0005\n"
     ]
    }
   ],
   "source": [
    "# 14. Create a generator which will generate runtime unique value as  ABC0001, ABC0002, ABC0003…\n",
    " \n",
    "def uniqueValueGenerator(prefix):\n",
    "    num = 1\n",
    "    while True:\n",
    "        yield f\"{prefix}{num:04d}\"\n",
    "        num += 1\n",
    "\n",
    "# Example usage\n",
    "num=int(input(\"Enter how many unique value you want: \"))\n",
    "generator = uniqueValueGenerator(\"ABC\")\n",
    "\n",
    "for _ in range(num):\n",
    "    print(next(generator))\n",
    "  \n"
   ]
  },
  {
   "cell_type": "code",
   "execution_count": 26,
   "metadata": {},
   "outputs": [
    {
     "name": "stdout",
     "output_type": "stream",
     "text": [
      "{'PAN Valid': True, 'Rec No Valid': True}\n",
      "{'PAN Valid': False, 'Rec No Valid': False}\n"
     ]
    }
   ],
   "source": [
    "# 15. Create a decorator to check if all input values are alpha numeric and based on \n",
    "# it check PAN detail  AAAAA1111X , rec.no   first 3 chr next 5 number \n",
    "\n",
    "import re\n",
    "\n",
    "def alphanumericDecorator(func):\n",
    "    def innerFunc(*inputs, **options):\n",
    "        for arg in inputs:\n",
    "            if not isinstance(arg, str) or not arg.isalnum():\n",
    "                raise ValueError(\"All input values must be alphanumeric.\")\n",
    "        return func(*inputs, **options)\n",
    "    return innerFunc\n",
    "\n",
    "def validatePan(pan):\n",
    "    pattern = r\"^[A-Z]{5}[0-9]{4}[A-Z]$\"\n",
    "    return bool(re.match(pattern, pan))\n",
    "\n",
    "def validateRec_no(rec_no):\n",
    "    pattern = r\"^[A-Z]{3}[0-9]{5}$\"\n",
    "    return bool(re.match(pattern, rec_no))\n",
    "\n",
    "@alphanumericDecorator\n",
    "def checkDetails(pan, rec_no):\n",
    "    pan_valid = validatePan(pan)\n",
    "    rec_no_valid = validateRec_no(rec_no)\n",
    "    return {\"PAN Valid\": pan_valid, \"Rec No Valid\": rec_no_valid}\n",
    "\n",
    "\n",
    "print(checkDetails(\"AAAAA1111X\", \"ABC12345\"))  # valid input\n",
    "print(check_details(\"ABC123456X\", \"XYZ1234\"))   # invalid input\n",
    "\n",
    "  \n"
   ]
  },
  {
   "cell_type": "code",
   "execution_count": 25,
   "metadata": {},
   "outputs": [
    {
     "name": "stdout",
     "output_type": "stream",
     "text": [
      "{'addition': 5, 'substraction': -1, 'multiplication': 6, 'division': 0.6666666666666666, 'floordivision': 0, 'modulus': 2, 'Exponentiation': 8}\n"
     ]
    }
   ],
   "source": [
    "# 16. Accept 2 values from user and perform all arithmetic operations and return all\n",
    "\n",
    "def claculator(a,b):\n",
    "  addition=a+b\n",
    "  substraction=a-b\n",
    "  \n",
    "  multiplication=a*b\n",
    "  Exponentiation=a**b\n",
    "  try:\n",
    "      floordivision=a//b\n",
    "      division=a/b\n",
    "      modulus=a%b\n",
    "\n",
    "  except (ZeroDivisionError):\n",
    "         print('Please enter number greater than zero')\n",
    "         floordivision=0\n",
    "         division=0\n",
    "         modulus=0\n",
    "\n",
    "  return {\"addition\": addition,\"substraction\": substraction,\"multiplication\": multiplication,\n",
    "          \"division\": division,\"floordivision\": floordivision,\"modulus\": modulus,\"Exponentiation\": Exponentiation}\n",
    "\n",
    "\n",
    "try:\n",
    "    a=float(input(\"Enter the First number : \"))\n",
    "    b=float(input(\"Enter the second number : \"))\n",
    "    if a.is_integer():\n",
    "          a=int(a)\n",
    "          \n",
    "    if b.is_integer():\n",
    "          b=int(b)\n",
    "          \n",
    "    result=claculator(a,b)\n",
    "    print(result)\n",
    "                \n",
    "except ValueError:\n",
    "            print(\"Invalid input! Please enter a numeric value.\")\n",
    "   "
   ]
  },
  {
   "cell_type": "code",
   "execution_count": 27,
   "metadata": {},
   "outputs": [
    {
     "name": "stdout",
     "output_type": "stream",
     "text": [
      "{'name': 'abhi', 'marks': 98, 'mobile_num': '1234567890'}\n"
     ]
    }
   ],
   "source": [
    "# 17. Ask user to enter any 3 input e.g name, marks , mobile_num\n",
    "# if name is with other special characters then it should not not ask for next makrs input\n",
    "#    \tnote: \n",
    "# o\tCreate separate functions for validation of every variable \n",
    "# o\tEvery single block should have proper exception\n",
    "# o\tEvery function must have the docstring\n",
    "# o\tOnce the validation is done dictionary has to be created and store the dictionary to one txt file\n",
    "\n",
    "def validateName(name):\n",
    "    if not name.isalpha():\n",
    "        raise ValueError(\"Name must contain only Strings.\")\n",
    "    return name\n",
    "\n",
    "def validateMarks(marks):\n",
    "    if not marks.isdigit() or not (0 <= int(marks) <= 100):\n",
    "        raise ValueError(\"Marks must be a number between 0 and 100.\")\n",
    "    return int(marks)\n",
    "\n",
    "def validateMobileNum(mobile_num):\n",
    "    if not mobile_num.isdigit() or len(mobile_num) != 10:\n",
    "        raise ValueError(\"Mobile number must be a 10-digit number.\")\n",
    "    return mobile_num\n",
    "\n",
    "def getUserInput():\n",
    "    try:\n",
    "        name = validateName(input(\"Enter name: \"))\n",
    "        marks = validateMarks(input(\"Enter marks: \"))\n",
    "        mobile_num = validateMobileNum(input(\"Enter mobile number: \"))\n",
    "        userData = {\"name\": name, \"marks\": marks, \"mobile_num\": mobile_num}\n",
    "        with open(\"userDetails.txt\", \"w\") as file:\n",
    "            file.write(str(userData))\n",
    "        return userData\n",
    "    except ValueError as e:\n",
    "        print(e)\n",
    " \n",
    "print(getUserInput())\n",
    "\n"
   ]
  },
  {
   "cell_type": "code",
   "execution_count": 31,
   "metadata": {},
   "outputs": [],
   "source": [
    "# 18. Segregate file in small , medium and large size in different folder\n",
    "# o\tfilesize less than and equal to 10KB is small file\n",
    "# o\tfilesize more than 10 KB is the medium file\n",
    "# o\tfilesize more than 40 kb is the large file\n",
    "# o\tcreate the log file \n",
    "\n",
    "\n",
    "import os\n",
    "import shutil\n",
    "import logging\n",
    "\n",
    "def categorizeFiles(sourceDir, smallDir, mediumDir, largeDir, logFile):\n",
    "    \"\"\"\n",
    "    Categorizes files in a source directory into small, medium, and large size categories.\n",
    "\n",
    "    \"\"\"\n",
    "\n",
    "    # Create destination directories if they don't exist\n",
    "    os.makedirs(smallDir, exist_ok=True)\n",
    "    os.makedirs(mediumDir, exist_ok=True)\n",
    "    os.makedirs(largeDir, exist_ok=True)\n",
    "\n",
    "    with open(logFile, 'w') as log:\n",
    "        for filename in os.listdir(sourceDir):\n",
    "            source_path = os.path.join(sourceDir, filename)\n",
    "            \n",
    "            # Check if it's a file (not a directory)\n",
    "            if os.path.isfile(source_path):\n",
    "                try:\n",
    "                    size_kb = os.path.getsize(source_path) / 1024\n",
    "                    \n",
    "                    if size_kb <= 10:\n",
    "                        destination_dir = small_dir\n",
    "                    elif size_kb <= 40:\n",
    "                        destination_dir = medium_dir\n",
    "                    else:\n",
    "                        destination_dir = large_dir\n",
    "\n",
    "                    destination_path = os.path.join(destination_dir, filename)\n",
    "                    shutil.copy2(source_path, destination_path) \n",
    "                    log.write(f\"{filename}: {size_kb:.2f} KB, moved to {destination_dir}\\n\")\n",
    "                except (OSError, IOError) as e:\n",
    "                    log.write(f\"Error processing {filename}: {e}\\n\")\n",
    "            else:\n",
    "                log.write(f\"Skipping {filename} (not a file)\\n\")\n",
    "\n",
    "\n",
    "\n",
    "sourceDirectory = r\"D:\\notpadfiles\"  \n",
    "smallFilesDir = r\"D:\\kbsize\"\n",
    "mediumFilesDir = r\"D:\\mbsize\"\n",
    "largeFilesDir = r\"D:\\gbsize\"\n",
    "logFilepath = r\"D:\\file_categorization_log.txt\"\n",
    "\n",
    "categorize_files(sourceDirectory, smallFilesDir, mediumFilesDir, largeFilesDir, logFilepath)"
   ]
  },
  {
   "cell_type": "code",
   "execution_count": 45,
   "metadata": {},
   "outputs": [
    {
     "name": "stdout",
     "output_type": "stream",
     "text": [
      "||--------------------------------------------------||\n",
      "||           WELCOME TO OUR SNACK CENTER            ||\n",
      "||==================================================||\n",
      "||                     OUR MENU                     ||\n",
      "|| SR_No               Snacks                 PRICE ||\n",
      "||--------------------------------------------------||\n",
      "||      1          Samosa                        20 ||\n",
      "||      2          Wadapav                       30 ||\n",
      "||      3            Tea                         20 ||\n",
      "||      4         Panipuri                       20 ||\n",
      "||      5         Dahipuri                       20 ||\n",
      "||==================================================||\n"
     ]
    },
    {
     "name": "stdout",
     "output_type": "stream",
     "text": [
      "\n",
      ".******************Order Completed.******************\n",
      "\n",
      "||--------------------------------------------------||\n",
      "||                  Generated Bill                  ||\n",
      "||==================================================||\n",
      "|| SR_No  Snacks               Quantity       Price ||\n",
      "||--------------------------------------------------||\n",
      "|| 4      Panipuri             2                 40 ||\n",
      "||--------------------------------------------------||\n",
      "|| Total                                      40.00 ||\n",
      "|| GST (10%)                                   4.00 ||\n",
      "|| Grand Total                                44.00 ||\n",
      "||==================================================||\n",
      "\n"
     ]
    }
   ],
   "source": [
    "# 19. In the hotel user is entering the details of menu, quantity and printing the bill.\n",
    "#     number of menu may varies with customer's order \n",
    "# \tgenerate a file having grocery bill as per the below format\n",
    "\t \n",
    "# \tNote: User may enter n entities and total will be calculated adding\n",
    "#     the GST of 10% separately\n",
    "# \t**apply exception wherever it is required. \n",
    "# \t**create the log file and check if code is arranged in a proper format\n",
    "#      using flake8, pylint, etc.\n",
    "\n",
    "\n",
    "\n",
    "import os\n",
    "import logging\n",
    "\n",
    "title = \"WELCOME TO OUR SNACK CENTER\"\n",
    "dict1 = {\n",
    "    1: [\"Samosa\", 20],\n",
    "    2: [\"Wadapav\", 30],\n",
    "    3: [\"Tea\", 20],\n",
    "    4: [\"Panipuri\", 20],\n",
    "    5: [\"Dahipuri\", 20]\n",
    "}\n",
    "\n",
    "# Configure logging\n",
    "log_file = \"order_log.txt\"\n",
    "logging.basicConfig(filename=log_file, level=logging.INFO, format='%(asctime)s - %(message)s')\n",
    "\n",
    "def display_menu():\n",
    "    print(f\"||{'-':-^50}||\")\n",
    "    print(f\"||{title:^50}||\")\n",
    "    print(f\"||{'=':=^50}||\")\n",
    "    print(f\"||{'OUR MENU':^50}||\")\n",
    "    print(f\"|| {'SR_No':10} {'Snacks':^25} {'PRICE':>11} ||\")  \n",
    "    print(f\"||{'-':-^50}||\")   \n",
    "    for i, j in dict1.items():\n",
    "        print(f\"|| {i:6} {j[0]:^25} {j[1]:>15} ||\") \n",
    "    print(f\"||{'=':=^50}||\")\n",
    "\n",
    "def generate_bill(order_list, total_price):\n",
    "    print(f\"||{'-'*50}||\")\n",
    "    print(f\"||{'Generated Bill':^50}||\")\n",
    "    print(f\"||{'='*50}||\")\n",
    "    print(f\"|| {'SR_No':<6} {'Snacks':<20} {'Quantity':<9} {'Price':>10} ||\")\n",
    "    print(f\"||{'-'*50}||\")\n",
    "    \n",
    "    for item in order_list:\n",
    "        print(f\"|| {item[0]:<6} {item[1]:<20} {item[2]:<9} {item[3]:>10} ||\")\n",
    "    \n",
    "    print(f\"||{'-'*50}||\")\n",
    "    gst = total_price * 0.10\n",
    "    grand_total = total_price + gst\n",
    "    print(f\"|| {'Total':<39} {total_price:>8.2f} ||\")\n",
    "    print(f\"|| {'GST (10%)':<39} {gst:>8.2f} ||\")\n",
    "    print(f\"|| {'Grand Total':<39} {grand_total:>8.2f} ||\")\n",
    "    print(f\"||{'='*50}||\\n\")\n",
    "    \n",
    "    logging.info(f\"Total Price: {total_price}, GST: {gst}, Grand Total: {grand_total}\")\n",
    "\n",
    "def take_order():\n",
    "    price = 0\n",
    "    order_list = []\n",
    "    while True:\n",
    "        try:\n",
    "            give_order = int(input(\"Enter the Item Number: \"))\n",
    "            if give_order not in dict1:\n",
    "                print(\"Invalid item number. Please try again.\")\n",
    "                continue\n",
    "            quantity = int(input(\"Enter the quantity: \"))\n",
    "            if quantity <= 0:\n",
    "                print(\"Quantity must be greater than zero.\")\n",
    "                continue\n",
    "            \n",
    "            item_name = dict1[give_order][0]\n",
    "            item_price = dict1[give_order][1] * quantity\n",
    "            price += item_price\n",
    "            order_list.append((give_order, item_name, quantity, item_price))\n",
    "            \n",
    "            return_order = input(\"Place another order? Yes(1) / No(0): \")\n",
    "            if return_order != \"1\":\n",
    "                print(\"\\n******************Order Completed.******************\\n\")\n",
    "                generate_bill(order_list, price)\n",
    "                break\n",
    "        except ValueError:\n",
    "            print(\"Invalid input. Please enter numbers only.\")\n",
    "            continue\n",
    "\n",
    "def main():\n",
    "    display_menu()\n",
    "    take_order()\n",
    "    \n",
    "main()\n"
   ]
  },
  {
   "cell_type": "code",
   "execution_count": 65,
   "metadata": {},
   "outputs": [
    {
     "name": "stdout",
     "output_type": "stream",
     "text": [
      "Execution completed.\n",
      "('in', 7)\n"
     ]
    }
   ],
   "source": [
    "# 20. Ask user to enter the valid file path and check\n",
    "#  which word is having more repetition in the file\n",
    "\n",
    "def mostRepeatedWord(filePath):\n",
    "    file = None\n",
    "    try:\n",
    "        file = open(filePath, 'r')\n",
    "        text = file.read()\n",
    "        words = text.split()\n",
    "        word_count = {}\n",
    "        for word in words:\n",
    "            word_count[word] = word_count.get(word, 0) + 1\n",
    "        most_repeated = max(word_count, key=word_count.get)\n",
    "        return most_repeated, word_count[most_repeated]\n",
    "    except FileNotFoundError:\n",
    "        return \"Error: File not found.\"\n",
    "    except Exception as e:\n",
    "        return f\"An error occurred: {e}\"\n",
    "    finally:\n",
    "        if file:\n",
    "            file.close()\n",
    "            print(\"Execution completed.\")\n",
    "\n",
    "filePath = input(r\"Enter the file path: \") #E.g. D:\\GIT_biz\\Python\\Assignment Que35\\test1.txt\n",
    "print(mostRepeatedWord(filePath))\n",
    "\n"
   ]
  },
  {
   "cell_type": "code",
   "execution_count": 58,
   "metadata": {},
   "outputs": [
    {
     "name": "stdout",
     "output_type": "stream",
     "text": [
      "Execution completed.\n",
      "{'is': 0}\n"
     ]
    }
   ],
   "source": [
    "# 21. Ask user to enter the valid file path and \n",
    "# check which word is having more repetition in the file\n",
    "\n",
    "def wordOccurrencesCounter(word, filePath):\n",
    "    try:\n",
    "        file = open(filePath, 'r')\n",
    "        text = file.read()\n",
    "        words = text.split()\n",
    "        count = words.count(word)\n",
    "        return {word: count}\n",
    "    except FileNotFoundError:\n",
    "        print(\"Error: The file was not found. Please check the file path.\")\n",
    "        return None\n",
    "    except Exception as e:\n",
    "        print(f\"An error occurred: {e}\")\n",
    "        return None\n",
    "    finally:\n",
    "        try:\n",
    "            file.close()\n",
    "            print(\"Execution completed.\")\n",
    "        except NameError:\n",
    "            pass  # If 'file' was never opened, do nothing\n",
    "\n",
    "word = input(\"Enter the word: \")#E.g. any string \n",
    "filePath = input(r\"Enter the file path: \") #E.g. D:\\GIT_biz\\Python\\Assignment Que35\\test1.txt\n",
    "result = wordOccurrencesCounter(word, filePath)\n",
    "\n",
    "if result:\n",
    "    print(result)\n"
   ]
  },
  {
   "cell_type": "code",
   "execution_count": 72,
   "metadata": {},
   "outputs": [
    {
     "name": "stdout",
     "output_type": "stream",
     "text": [
      "Execution completed.\n",
      "{'Hello,': 1, \"I'm\": 1, 'Abhijeet': 1, 'Dudhe,': 1, 'a': 4, 'recent': 1, 'graduate': 1, 'from': 2, 'the': 3, 'Certified': 1, 'Diploma': 1, 'in': 7, 'Advanced': 1, 'Computing': 1, '(CDAC)': 1, 'program': 1, 'at': 1, 'Infoway': 1, 'Technology.': 1, 'Prior': 1, 'to': 4, 'enrolling': 1, 'CDAC': 1, 'program,': 1, 'I': 2, 'completed': 1, 'my': 5, 'Bachelor': 1, 'of': 1, 'Engineering': 2, '(BE)': 1, 'degree': 1, 'Electronics': 1, 'and': 5, 'Telecommunication': 1, 'Savitribai': 1, 'Phule': 1, 'Pune': 1, 'University': 1, '(SPPU)': 1, '2022.': 1, 'Following': 1, 'graduation,': 1, 'embarked': 1, 'on': 1, 'six-month': 1, 'internship': 1, 'gain': 1, 'hands-on': 1, 'experience': 1, 'frontend': 1, 'technology': 1, '(Angular).Throughout': 1, 'academic': 1, 'journey,': 1, \"I've\": 1, 'developed': 1, 'strong': 1, 'foundation': 1, 'software': 1, 'engineering': 1, 'principles': 1, 'honed': 1, 'skills': 1, 'programming': 1, 'languages': 1, 'such': 1, 'as': 4, 'Java,': 1, 'C,': 1, 'CPP,': 1, 'well': 1, 'web': 1, 'development': 1, 'technologies': 1, 'like': 1, 'HTML,': 1, 'CSS,': 1, \"JavaScript.I'm\": 1, 'enthusiastic': 1, 'about': 1, 'leveraging': 1, 'education': 1, 'experiences': 1, 'contribute': 1, 'effectively': 1, 'your': 1, 'team': 1, 'Software': 1, 'Engineer.\"': 1}\n"
     ]
    }
   ],
   "source": [
    "# 22. Create a function which will accept one file and returns all occurrences of the word\n",
    "# {‘market’ : 3, ‘is’:5, ‘new’:2}\n",
    "\n",
    "def allWordOccurrences(filePath):\n",
    "    file = None\n",
    "    try:\n",
    "        file = open(filePath, 'r')\n",
    "        text = file.read()\n",
    "        words = text.split()\n",
    "        word_count = {}\n",
    "        for word in words:\n",
    "            word_count[word] = word_count.get(word, 0) + 1\n",
    "        return word_count\n",
    "    except FileNotFoundError:\n",
    "        return \"Error: File not found.\"\n",
    "    except Exception as e:\n",
    "        return f\"An error occurred: {e}\"\n",
    "    finally:\n",
    "        if file:\n",
    "            file.close()\n",
    "            print(\"Execution completed.\")\n",
    "\n",
    "filePath = input(r\"Enter the file path: \")#E.g. D:\\GIT_biz\\Python\\Assignment Que35\\test1.txt\n",
    "print(allWordOccurrences(filePath))"
   ]
  },
  {
   "cell_type": "code",
   "execution_count": 76,
   "metadata": {},
   "outputs": [
    {
     "name": "stdout",
     "output_type": "stream",
     "text": [
      "key :  name, value : John\n",
      "key :  age, value : 30\n"
     ]
    }
   ],
   "source": [
    "# 23. Based on logic mentioned in question number 8 create the class\n",
    "\n",
    "class DictionaryDisplay:\n",
    "    def __init__(self, dictionary):\n",
    "        self.dictionary = dictionary\n",
    "\n",
    "    def dictItem(self):\n",
    "        for key,value in self.dictionary.items():\n",
    "            print(f\"key :  {key}, value : {value}\")\n",
    "\n",
    "d = {'name': 'John', 'age': 30}\n",
    "display = DictionaryDisplay(d)\n",
    "display.dictItem()"
   ]
  },
  {
   "cell_type": "code",
   "execution_count": 81,
   "metadata": {},
   "outputs": [
    {
     "name": "stdout",
     "output_type": "stream",
     "text": [
      "('sjdjdjddccmccmcmcmcmcm', 1)\n"
     ]
    }
   ],
   "source": [
    "# 24. Ask user to enter the folder path. \n",
    "# Folder may contain more than one file and with different extensions.\n",
    "#  Read only text file and return the more repetitive word\n",
    "\n",
    "\n",
    "import os\n",
    "\n",
    "def mostRepeatedWordInFolder(folderPath):\n",
    "    word_count = {}\n",
    "    try:\n",
    "        for filename in os.listdir(folderPath):\n",
    "            if filename.endswith(\".txt\"):\n",
    "                filePath = os.path.join(folderPath, filename)\n",
    "                file = None\n",
    "                try:\n",
    "                    file = open(filePath, 'r')\n",
    "                    text = file.read()\n",
    "                    words = text.split()\n",
    "                    for word in words:\n",
    "                        word_count[word] = word_count.get(word, 0) + 1\n",
    "                except FileNotFoundError:\n",
    "                    print(f\"Error: {filePath} not found.\")\n",
    "                except Exception as e:\n",
    "                    print(f\"An error occurred while processing {filePath}: {e}\")\n",
    "                finally:\n",
    "                    if file:\n",
    "                        file.close()\n",
    "        most_repeated = max(word_count, key=word_count.get)\n",
    "        return most_repeated, word_count[most_repeated]\n",
    "    except FileNotFoundError:\n",
    "        return \"Error: Folder not found.\"\n",
    "    except Exception as e:\n",
    "        return f\"An error occurred: {e}\"\n",
    "  \n",
    "\n",
    "folderPath = input(r\"Enter the folder path: \") #e.g.   D:\\\\Assisment\n",
    "print(mostRepeatedWordInFolder(folderPath))\n",
    "\n"
   ]
  },
  {
   "cell_type": "code",
   "execution_count": 128,
   "metadata": {},
   "outputs": [
    {
     "name": "stdout",
     "output_type": "stream",
     "text": [
      "A paragraph is a series of sentences that are organized and coherent, and are all related to a single topic. Almost every piece of writing you do that is longer than a few sentences should be organized into paragraphs. This is because paragraphs show a reader where the subdivisions of an essay begin and end, and thus help the reader see the organization of the essay and grasp its main points.\n",
      "Paragraphs can contain many different kinds of information. A paragraph could contain a series of brief examples or a single long illustration of a general point. It might describe a place, character, or process; narrate a series of events; compare or contrast two or more things; classify items into categories; or describe causes and effects. Regardless of the kind of information they contain, all paragraphs share certain characteristics. One of the most important of these is a topic sentence.\n",
      "TOPIC SENTENCE\n",
      "A well-organized paragraph supports or develops a single controlling idea, which is expressed in a sentence called the topic sentence. A topic sentence has several important functions: it substantiates or supports an essayâ€™s thesis statement; it unifies the content of a paragraph and directs the order of the sentences; and it advises the reader of the subject to be discussed and how the paragraph will discuss it. Readers generally look to the first few sentences in a paragraph to determine the subject and perspective of the paragraph. Thatâ€™s why itâ€™s often best to put the topic sentence at the very beginning of the paragraph. In some cases, however, itâ€™s more effective to place another sentence before the topic sentenceâ€”for example, a sentence linking the current paragraph to the previous one, or one providing background information.\n",
      "Although most paragraphs should have a topic sentence, there are a few situations when a paragraph might not need a topic sentence. For example, you might be able to omit a topic sentence in a paragraph that narrates a series of events, if a paragraph continues developing an idea that you introduced (with a topic sentence) in the previous paragraph, or if all the sentences and details in a paragraph clearly referâ€”perhaps indirectlyâ€”to a main point. The vast majority of your paragraphs, however, should have a topic sentence.\n"
     ]
    }
   ],
   "source": [
    "#25. Create a class for file reading\n",
    "class FileReader:\n",
    "    def __init__(self, filePath):\n",
    "        self.filePath = filePath\n",
    "\n",
    "    def read(self):\n",
    "        file = None\n",
    "        try:\n",
    "            file = open(self.filePath, 'r')\n",
    "            return file.read()\n",
    "        except FileNotFoundError:\n",
    "            return \"Error: File not found.\"\n",
    "        except Exception as e:\n",
    "            return f\"An error occurred: {e}\"\n",
    "        finally:\n",
    "            if file:\n",
    "                file.close()\n",
    "            \n",
    "\n",
    "file = FileReader(r'D:\\GIT_biz\\Python\\Assignment Que35\\test1.txt')\n",
    "print(file.read())"
   ]
  },
  {
   "cell_type": "code",
   "execution_count": 89,
   "metadata": {},
   "outputs": [
    {
     "name": "stdout",
     "output_type": "stream",
     "text": [
      "['age', 'height']\n"
     ]
    }
   ],
   "source": [
    "# 26.\tCreate a function which will accept the dictionary. \n",
    "# Dictionary may have values any date type format. \n",
    "# If values are in integer or float then return respective key\n",
    "\n",
    "\n",
    "getNumericKeys = lambda d: [key for key, value in d.items() if isinstance(value, (int, float))]\n",
    "\n",
    "d = {'name': 'John', 'age': 30, 'height': 5.9, 'city': 'New York'}\n",
    "print(getNumericKeys(d))"
   ]
  },
  {
   "cell_type": "code",
   "execution_count": 91,
   "metadata": {},
   "outputs": [
    {
     "name": "stdout",
     "output_type": "stream",
     "text": [
      "John\n",
      "An error occurred: Name must contain only characters.\n",
      "None\n"
     ]
    }
   ],
   "source": [
    "# 27. Create one decorator having exception logic inside it and create another function\n",
    "#  which will refer to the decorator in case of errors\n",
    "# e.g  val_name is the function validating name but customized error \n",
    "# should be thrown from decorator\n",
    "\n",
    "def exceptionHandler(func):\n",
    "    def innerfunc(*inputs, **options):\n",
    "        try:\n",
    "            return func(*inputs, **options)\n",
    "        except Exception as e:\n",
    "            print(f\"An error occurred: {e}\")\n",
    "    return innerfunc\n",
    "\n",
    "@exceptionHandler\n",
    "def validateName(name):\n",
    "    if not name.isalpha():\n",
    "        raise ValueError(\"Name must contain only characters.\")\n",
    "    return name\n",
    "\n",
    "print(validateName(\"John\"))\n",
    "print(validateName(\"John123\"))"
   ]
  },
  {
   "cell_type": "code",
   "execution_count": 97,
   "metadata": {},
   "outputs": [
    {
     "name": "stdout",
     "output_type": "stream",
     "text": [
      "Name: John\n",
      "Age: 30\n",
      "mobileNo: 9999999999\n"
     ]
    }
   ],
   "source": [
    "# 28. Create a class User.  User will be instantiated based on key available in\n",
    "#  the dictionary. If dictionary is not having the key then generate error. \n",
    "# If dictionary is having the key then display values against the same.\n",
    "\n",
    "class User:\n",
    "    def __init__(self, userDetails):\n",
    "        requiredKeys = ['name', 'age', 'mobileNo']\n",
    "        for key in requiredKeys:\n",
    "            if key not in userDetails:\n",
    "                raise ValueError(f\"Missing required key: {key}\")\n",
    "        self.name = userDetails['name']\n",
    "        self.age = userDetails['age']\n",
    "        self.mobileNo = userDetails['mobileNo']\n",
    "\n",
    "    def display(self):\n",
    "        print(f\"Name: {self.name}\")\n",
    "        print(f\"Age: {self.age}\")\n",
    "        print(f\"mobileNo: {self.mobileNo}\")\n",
    "\n",
    "userDetails = {'name': 'John', 'age': 30, 'mobileNo': '9999999999'}\n",
    "user = User(userDetails)\n",
    "user.display()"
   ]
  },
  {
   "cell_type": "code",
   "execution_count": 99,
   "metadata": {},
   "outputs": [
    {
     "name": "stdout",
     "output_type": "stream",
     "text": [
      "\n",
      "Bill:\n",
      "Paracetamol x 2: 40\n",
      "Ibuprofen x 1: 50\n",
      "Aspirin: Not available\n",
      "Total: 90\n",
      "\n"
     ]
    }
   ],
   "source": [
    "# 29. Create a class pharma. One user A will enter the medicine name and price.  \n",
    "# Another user B will generate the bill based on entry done by the first user\n",
    "\n",
    "class Pharma:\n",
    "    def __init__(self):\n",
    "        self.medicineDetails = {}\n",
    "\n",
    "    def addMedicine(self, name, price):\n",
    "        if not name or price <= 0:\n",
    "            raise ValueError(\"Invalid medicine name or price.\")\n",
    "        self.medicineDetails[name] = price\n",
    "\n",
    "    def generateBill(self, medicines):\n",
    "        total = 0\n",
    "        print(\"\\nBill:\")\n",
    "        for medicine, quantity in medicines.items():\n",
    "            if medicine in self.medicineDetails:\n",
    "                cost = self.medicineDetails[medicine] * quantity\n",
    "                print(f\"{medicine} x {quantity}: {cost}\")\n",
    "                total += cost\n",
    "            else:\n",
    "                print(f\"{medicine}: Not available\")\n",
    "        print(f\"Total: {total}\\n\")\n",
    "\n",
    "# User 1 enters medicine details\n",
    "pharmacy = Pharma()\n",
    "pharmacy.addMedicine(\"Paracetamol\", 20)\n",
    "pharmacy.addMedicine(\"Ibuprofen\", 50)\n",
    "\n",
    "# User 2 generates a bill\n",
    "medicinesToBuy = {\"Paracetamol\": 2, \"Ibuprofen\": 1, \"Aspirin\": 1}\n",
    "pharmacy.generateBill(medicinesToBuy)\n"
   ]
  },
  {
   "cell_type": "code",
   "execution_count": 129,
   "metadata": {},
   "outputs": [
    {
     "name": "stdout",
     "output_type": "stream",
     "text": [
      "{1: 45, 3: 56}\n"
     ]
    }
   ],
   "source": [
    "# 30. Read the file if the file contains number, then return \n",
    "# the dictionary based on position and values of the number.\n",
    "\n",
    "def numPositions(filePath):\n",
    "    file = None\n",
    "    try:\n",
    "        file = open(filePath, 'r')\n",
    "        readfile = file.read()\n",
    "        numbers = {i: int(word) for i, word in enumerate(readfile.split()) if word.isdigit()}\n",
    "        return numbers\n",
    "    except FileNotFoundError:\n",
    "        return \"Error: File not found.\"\n",
    "    except Exception as e:\n",
    "        return f\"An error occurred: {e}\"\n",
    "    finally:\n",
    "        if file:\n",
    "            file.close()\n",
    "        \n",
    "\n",
    "print(numPositions(r'D:\\GIT_biz\\Python\\Assignment Que35\\test3.txt'))\n"
   ]
  },
  {
   "cell_type": "code",
   "execution_count": 110,
   "metadata": {},
   "outputs": [
    {
     "name": "stdout",
     "output_type": "stream",
     "text": [
      "{1: 45, 3: 56}\n"
     ]
    }
   ],
   "source": [
    "# 31. Create a class for file reading file if the file contains number,\n",
    "#  then return the dictionary based on user object,\n",
    "#  having sub dictionary position and values of the number against that user file.\n",
    "\n",
    "class fileReader:\n",
    "    def __init__(self, filePath):\n",
    "        self.filePath = filePath\n",
    "\n",
    "    def readNumbers(self):\n",
    "        with open(self.filePath, 'r') as file:\n",
    "            text = file.read()\n",
    "            numbers = {i: int(word) for i, word in enumerate(text.split()) if word.isdigit()}\n",
    "        return numbers\n",
    "\n",
    "fileReader = FileReader(r'c:\\Users\\USer\\Desktop\\test3.txt')\n",
    "print(fileReader.readNumbers())"
   ]
  },
  {
   "cell_type": "code",
   "execution_count": 111,
   "metadata": {},
   "outputs": [
    {
     "name": "stdout",
     "output_type": "stream",
     "text": [
      "Booking successful! Your confirmation number is: c963957d\n"
     ]
    }
   ],
   "source": [
    "#32. In hotel booking portal, user will enter pan card name and mobile number, \n",
    "# store the same information into dictionary after successful booking user will get\n",
    "#  confirmation number. \n",
    "\n",
    "\n",
    "import uuid\n",
    "\n",
    "class HotelBooking:\n",
    "    def __init__(self):\n",
    "        self.bookings = {}\n",
    "\n",
    "    def book_room(self, panCard, name, mobileNumber):\n",
    "        if not panCard or not name or not mobileNumber:\n",
    "            raise ValueError(\"PAN Card, Name, and Mobile Number are required.\")\n",
    "        \n",
    "        confirmationNumber = str(uuid.uuid4())[:8]  # Generate a unique confirmation number\n",
    "        self.bookings[confirmationNumber] = {\n",
    "            \"PAN Card\": panCard,\n",
    "            \"Name\": name,\n",
    "            \"Mobile Number\": mobileNumber\n",
    "        }\n",
    "        \n",
    "        return confirmationNumber\n",
    "\n",
    "# User enters details\n",
    "user1 = HotelBooking()\n",
    "panCard = input(\"Enter PAN Card: \")\n",
    "name = input(\"Enter Name: \")\n",
    "mobileNumber = input(\"Enter Mobile Number: \")\n",
    "\n",
    "confirmationNumber = user1.book_room(panCard, name, mobileNumber)\n",
    "print(f\"Booking successful! Your confirmation number is: {confirmationNumber}\")\n"
   ]
  },
  {
   "cell_type": "code",
   "execution_count": 112,
   "metadata": {},
   "outputs": [
    {
     "name": "stdout",
     "output_type": "stream",
     "text": [
      "User john_doe registered successfully.\n",
      "User dr_smith registered successfully.\n",
      "User admin_user registered successfully.\n",
      "Marks entered for john_doe.\n",
      "Marks will be visible on the result date.\n",
      "95\n"
     ]
    }
   ],
   "source": [
    "#33. Create a super class user. Having methods register, sing in, sign out.    \n",
    "# Super class can be inherited by student, professor, admin\n",
    "# Admin and students can view the marks and professor can enter the marks\n",
    "# But marks can be visible to students on the given result date\n",
    "\n",
    "\n",
    "from datetime import datetime\n",
    "\n",
    "class User:\n",
    "    def __init__(self, username, password):\n",
    "        self.username = username\n",
    "        self.password = password\n",
    "        self.logged_in = False\n",
    "\n",
    "    def register(self):\n",
    "        print(f\"User {self.username} registered successfully.\")\n",
    "\n",
    "    def signIn(self, password):\n",
    "        if self.password == password:\n",
    "            self.logged_in = True\n",
    "            print(f\"{self.username} signed in successfully.\")\n",
    "        else:\n",
    "            print(\"Invalid password.\")\n",
    "\n",
    "    def signOut(self):\n",
    "        if self.logged_in:\n",
    "            self.logged_in = False\n",
    "            print(f\"{self.username} signed out successfully.\")\n",
    "        else:\n",
    "            print(\"User is not signed in.\")\n",
    "\n",
    "class Student(User):\n",
    "    def __init__(self, username, password):\n",
    "        super().__init__(username, password)\n",
    "        self.marks = None\n",
    "\n",
    "    def viewMarks(self, result_date):\n",
    "        if datetime.now() >= result_date:\n",
    "            return self.marks\n",
    "        else:\n",
    "            return \"Marks will be visible on the result date.\"\n",
    "\n",
    "class Professor(User):\n",
    "    def enterMarks(self, student, marks):\n",
    "        if isinstance(student, Student):\n",
    "            student.marks = marks\n",
    "            print(f\"Marks entered for {student.username}.\")\n",
    "        else:\n",
    "            print(\"Invalid student.\")\n",
    "\n",
    "class Admin(User):\n",
    "    def viewMarks(self, student):\n",
    "        if isinstance(student, Student):\n",
    "            return student.marks\n",
    "        else:\n",
    "            return \"Invalid student.\"\n",
    "\n",
    "\n",
    "# here we create obj\n",
    "result_date = datetime(2025, 3, 1)\n",
    "student = Student(\"john_doe\", \"password123\")\n",
    "professor = Professor(\"dr_smith\", \"prof123\")\n",
    "admin = Admin(\"admin_user\", \"admin123\")\n",
    "\n",
    "student.register()\n",
    "professor.register()\n",
    "admin.register()\n",
    "\n",
    "professor.enterMarks(student, 95)\n",
    "print(student.viewMarks(result_date))  # Output depend on current date\n",
    "print(admin.viewMarks(student))\n"
   ]
  },
  {
   "cell_type": "code",
   "execution_count": 113,
   "metadata": {},
   "outputs": [
    {
     "name": "stdout",
     "output_type": "stream",
     "text": [
      "Resume uploaded successfully for John Doe.\n",
      "Resume uploaded successfully for Jane Smith.\n",
      "Resume for John Doe is available at: C:/Resumes/JohnDoe.pdf\n",
      "Resume for Jane Smith is available at: C:/Resumes/JaneSmith.pdf\n"
     ]
    }
   ],
   "source": [
    "# 34. Create suitable classes, methods and attributes for resume exchange. \n",
    "# Employee to upload the file and the same file is visible to employer \n",
    "\n",
    "class ResumeExchanger:\n",
    "    def __init__(self):\n",
    "        self.resumes = {}\n",
    "\n",
    "    def uploadResume(self, employeeName, filePath):\n",
    "        if not employeeName or not filePath:\n",
    "            raise ValueError(\"Employee name and file path are required.\")\n",
    "        self.resumes[employeeName] = filePath\n",
    "        print(f\"Resume uploaded successfully for {employeeName}.\")\n",
    "\n",
    "    def viewResume(self, employeeName):\n",
    "        if employeeName in self.resumes:\n",
    "            return f\"Resume for {employeeName} is available at: {self.resumes[employeeName]}\"\n",
    "        else:\n",
    "            return \"No resume found for the given employee.\"\n",
    "\n",
    "\n",
    "naukriPortal = ResumeExchanger()\n",
    "naukriPortal.uploadResume(\"John Doe\", \"C:/Resumes/JohnDoe.pdf\")\n",
    "naukriPortal.uploadResume(\"Jane Smith\", \"C:/Resumes/JaneSmith.pdf\")\n",
    "\n",
    "print(naukriPortal.viewResume(\"John Doe\"))\n",
    "print(naukriPortal.viewResume(\"Jane Smith\"))"
   ]
  },
  {
   "cell_type": "code",
   "execution_count": 117,
   "metadata": {},
   "outputs": [
    {
     "name": "stdout",
     "output_type": "stream",
     "text": [
      "Database connected successfully!\n",
      "Employee added successfully!\n",
      "(1, 'John Doe', '9876543210', 'New York', Decimal('50000.00'))\n",
      "Leave applied successfully!\n",
      "(1, 1, '2025-02-20', 'Pending')\n",
      "Leave approved and moved to permanent records!\n",
      "Total salary for employee 1: 44000\n"
     ]
    },
    {
     "data": {
      "text/plain": [
       "44000"
      ]
     },
     "execution_count": 117,
     "metadata": {},
     "output_type": "execute_result"
    }
   ],
   "source": [
    "import pyodbc\n",
    "\n",
    "# Database Connection\n",
    "class Database:\n",
    "    def __init__(self):\n",
    "        self.conn = pyodbc.connect(\n",
    "            'DRIVER={SQL Server};'\n",
    "            'SERVER=DESKTOP-NJ0H0AV;'  \n",
    "            'DATABASE=employeeDb;'\n",
    "            'AUTOCOMMIT=False;'  \n",
    "        )\n",
    "        self.cursor = self.conn.cursor()\n",
    "        print(\"Database connected successfully!\")\n",
    "\n",
    "class Employee:\n",
    "    def __init__(self, db):\n",
    "        self.db = db\n",
    "\n",
    "    def add_employee(self, name, mobile, address, salary):\n",
    "        try:\n",
    "            query = \"INSERT INTO Employees (name, mobile, address, salary) VALUES (?, ?, ?, ?)\"\n",
    "            self.db.cursor.execute(query, (name, mobile, address, salary))\n",
    "            self.db.conn.commit()  # Commit the transaction\n",
    "            print(\"Employee added successfully!\")\n",
    "        except Exception as e:\n",
    "            self.db.conn.rollback()  # Rollback if there is an error\n",
    "            print(f\"Error adding employee: {e}\")\n",
    "\n",
    "    def view_employees(self):\n",
    "        self.db.cursor.execute(\"SELECT * FROM Employees\")\n",
    "        for emp in self.db.cursor.fetchall():\n",
    "            print(emp)\n",
    "\n",
    "class LeaveManagement:\n",
    "    def __init__(self, db):\n",
    "        self.db = db\n",
    "\n",
    "    def apply_leave(self, emp_id, leave_date):\n",
    "        try:\n",
    "            query = \"INSERT INTO LeaveRequests_Temp (emp_id, leave_date) VALUES (?, ?)\"\n",
    "            self.db.cursor.execute(query, (emp_id, leave_date))\n",
    "            self.db.conn.commit()\n",
    "            print(\"Leave applied successfully!\")\n",
    "        except Exception as e:\n",
    "            self.db.conn.rollback()\n",
    "            print(f\"Error applying for leave: {e}\")\n",
    "\n",
    "    def view_leaves(self):\n",
    "        self.db.cursor.execute(\"SELECT * FROM LeaveRequests_Temp\")\n",
    "        for leave in self.db.cursor.fetchall():\n",
    "            print(leave)\n",
    "\n",
    "    def approve_leave(self, leave_id):\n",
    "        try:\n",
    "            self.db.cursor.execute(\"SELECT * FROM LeaveRequests_Temp WHERE id = ?\", (leave_id,))\n",
    "            leave_data = self.db.cursor.fetchone()\n",
    "            if leave_data:\n",
    "                emp_id, leave_date = leave_data[1], leave_data[2]\n",
    "\n",
    "                # Start Transaction\n",
    "                self.db.cursor.execute(\"BEGIN TRANSACTION\")\n",
    "\n",
    "                # Insert into permanent leave table\n",
    "                self.db.cursor.execute(\"INSERT INTO LeaveRequests (emp_id, leave_date) VALUES (?, ?)\", (emp_id, leave_date))\n",
    "\n",
    "                # Delete from temporary table\n",
    "                self.db.cursor.execute(\"DELETE FROM LeaveRequests_Temp WHERE id = ?\", (leave_id,))\n",
    "\n",
    "                # Commit the transaction\n",
    "                self.db.conn.commit()\n",
    "                print(\"Leave approved and moved to permanent records!\")\n",
    "            else:\n",
    "                print(\"Leave request not found!\")\n",
    "        except Exception as e:\n",
    "            self.db.conn.rollback()  # Rollback if there is an error\n",
    "            print(f\"Error approving leave: {e}\")\n",
    "\n",
    "class Salary:\n",
    "    def __init__(self, db):\n",
    "        self.db = db\n",
    "\n",
    "    def calculate_salary(self, emp_id, days_worked, daily_wage):\n",
    "        total_salary = days_worked * daily_wage\n",
    "        print(f\"Total salary for employee {emp_id}: {total_salary}\")\n",
    "        return total_salary\n",
    "\n",
    "# Database class obj is created\n",
    "db = Database()\n",
    "\n",
    "# Create Employee & Leave Management Instances\n",
    "employee_mgmt = Employee(db)\n",
    "leave_mgmt = LeaveManagement(db)\n",
    "salary_mgmt = Salary(db)\n",
    "\n",
    "# Add Employee\n",
    "employee_mgmt.add_employee(\"John Doe\", \"9876543210\", \"New York\", 50000.00)\n",
    "\n",
    "# View Employees\n",
    "employee_mgmt.view_employees()\n",
    "\n",
    "# Apply for Leave\n",
    "leave_mgmt.apply_leave(1, \"2025-02-20\")\n",
    "\n",
    "# View Pending Leaves\n",
    "leave_mgmt.view_leaves()\n",
    "\n",
    "# Approve Leave (with transaction handling)\n",
    "leave_mgmt.approve_leave(1)\n",
    "\n",
    "# Calculate Salary\n",
    "salary_mgmt.calculate_salary(1, 22, 2000)\n"
   ]
  },
  {
   "cell_type": "code",
   "execution_count": null,
   "metadata": {},
   "outputs": [],
   "source": []
  }
 ],
 "metadata": {
  "kernelspec": {
   "display_name": "Python 3",
   "language": "python",
   "name": "python3"
  },
  "language_info": {
   "codemirror_mode": {
    "name": "ipython",
    "version": 3
   },
   "file_extension": ".py",
   "mimetype": "text/x-python",
   "name": "python",
   "nbconvert_exporter": "python",
   "pygments_lexer": "ipython3",
   "version": "3.12.6"
  }
 },
 "nbformat": 4,
 "nbformat_minor": 2
}
