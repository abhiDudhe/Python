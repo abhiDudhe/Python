{
 "cells": [
  {
   "cell_type": "markdown",
   "metadata": {},
   "source": [
    "Q7. Create a logic to segregate folders based on file size. Make 3 folders small size, middle size, large size folder and transfer the files to respective folders "
   ]
  },
  {
   "cell_type": "code",
   "execution_count": null,
   "metadata": {},
   "outputs": [],
   "source": [
    "import os\n",
    "import shutil\n",
    "for i in os.listdir(r\"D:\\notpadfiles\"):\n",
    "    filename = r\"D:\\\\notpadfiles\\\\\"+i\n",
    "\n",
    "    #sz =(os.stat(\"D:\\\\Printable_doc\\\\\"+i).st_size)/1024\n",
    "    sz =os.stat(filename).st_size/1000\n",
    "    if sz < 1000:\n",
    "      print(filename, sz ,\"kb\")\n",
    "      shutil.copy(str(filename),\"D:\\kbsize\")\n",
    "    elif sz/1000<1000:\n",
    "        shutil.copy(str(filename),\"D:\\mbsize\")\n",
    "    else:\n",
    "       shutil.copy(str(filename),\"D:\\gbsize\")\n",
    "       \n",
    "    "
   ]
  }
 ],
 "metadata": {
  "language_info": {
   "name": "python"
  }
 },
 "nbformat": 4,
 "nbformat_minor": 2
}
