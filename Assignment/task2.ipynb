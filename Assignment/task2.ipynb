{
 "cells": [
  {
   "cell_type": "markdown",
   "metadata": {},
   "source": [
    "Q2. User will enter the start date and end date. Ask user to enter the task to be done on weekdays. If it is weekend then no task should be allotted. "
   ]
  },
  {
   "cell_type": "code",
   "execution_count": 1,
   "metadata": {},
   "outputs": [
    {
     "name": "stdout",
     "output_type": "stream",
     "text": [
      "2025-01-18 is a Saturday weekend. No task allotted.\n",
      "2025-01-19 is a Sunday weekend. No task allotted.\n",
      "\n",
      "Tasks scheduled:\n",
      "2025-01-17: python exam \n",
      "2025-01-20: gitcsetup and Numpy Array\n"
     ]
    }
   ],
   "source": [
    "from datetime  import datetime, timedelta\n",
    "\n",
    "start_date_str=input(\"Enter the  start date  (YYYY-MM-DD): \")\n",
    "end_date_str=input(\"Enter the end date (YYYY-MM-DD): \")\n",
    "\n",
    "\n",
    "start_date = datetime.strptime(start_date_str, \"%Y-%m-%d\")\n",
    "end_date = datetime.strptime(end_date_str, \"%Y-%m-%d\")\n",
    "\n",
    "if start_date > end_date:\n",
    "  print(\"Start date cannot be after the end date.\")\n",
    "        \n",
    "\n",
    "current_date = start_date\n",
    "tasks = {}\n",
    "\n",
    "while current_date <= end_date:\n",
    "  \n",
    "        if current_date.weekday() < 5:  # 0 = Monday, 4 = Friday\n",
    "            task = input(f\"Enter task for {current_date.strftime('%Y-%m-%d')} {current_date.strftime(\"%A\")} (Weekday): \")\n",
    "            tasks[current_date.strftime('%Y-%m-%d')] = task\n",
    "        else:\n",
    "            print(f\"{current_date.strftime('%Y-%m-%d')} is a {current_date.strftime(\"%A\")} weekend. No task allotted.\")\n",
    "        \n",
    "       \n",
    "        current_date += timedelta(days=1)\n",
    "\n",
    "\n",
    "print(\"\\nTasks scheduled:\")\n",
    "for date, task in tasks.items():\n",
    "        print(f\"{date}: {task}\")"
   ]
  },
  {
   "cell_type": "code",
   "execution_count": null,
   "metadata": {},
   "outputs": [],
   "source": []
  }
 ],
 "metadata": {
  "kernelspec": {
   "display_name": "Python 3",
   "language": "python",
   "name": "python3"
  },
  "language_info": {
   "codemirror_mode": {
    "name": "ipython",
    "version": 3
   },
   "file_extension": ".py",
   "mimetype": "text/x-python",
   "name": "python",
   "nbconvert_exporter": "python",
   "pygments_lexer": "ipython3",
   "version": "3.12.6"
  }
 },
 "nbformat": 4,
 "nbformat_minor": 2
}
