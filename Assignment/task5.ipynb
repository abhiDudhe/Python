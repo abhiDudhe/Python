{
 "cells": [
  {
   "cell_type": "markdown",
   "metadata": {},
   "source": [
    "Q5. Create lambda function for your data"
   ]
  },
  {
   "cell_type": "code",
   "execution_count": 1,
   "metadata": {},
   "outputs": [
    {
     "name": "stdout",
     "output_type": "stream",
     "text": [
      "Student ID is valid.\n",
      "Name is valid.\n",
      "Email is valid.\n",
      "Mobile Number is valid.\n",
      "Address is valid.\n",
      "Gender is valid.\n",
      "DOB is valid.\n",
      "10th-grade Marks are valid.\n",
      "12th-grade Marks are valid.\n"
     ]
    }
   ],
   "source": [
    "import re\n",
    "from datetime import datetime\n",
    "\n",
    "# Lambda functions for validations\n",
    "validate_studentId = lambda studentId: len(studentId) == 2 and studentId.isdigit()\n",
    "validate_name = lambda name: name.isalpha()\n",
    "validate_email = lambda email: re.match(r'^[\\w\\.-]+@[\\w\\.-]+\\.\\w+$', email) is not None\n",
    "validate_mobileNo = lambda mobileNo: len(mobileNo) == 10 and mobileNo.isdigit()\n",
    "validate_address = lambda address: any(char.isalpha() for char in address) and any(char.isdigit() for char in address)\n",
    "validate_gender = lambda gender: gender.lower() in [\"male\", \"female\", \"other\"]\n",
    "validate_dob = lambda dob: datetime.strptime(dob, \"%Y-%m-%d\") <= datetime.now()\n",
    "validate_marks10th = lambda marks: marks > 60\n",
    "validate_marks12th = lambda marks: marks > 60\n",
    "\n",
    "# Taking input from the user\n",
    "studentId = input(\"Enter Student ID (2-digit number): \")\n",
    "if not validate_studentId(studentId):\n",
    "    print(\"Invalid Student ID. Must be a 2-digit number.\")\n",
    "else:\n",
    "    print(\"Student ID is valid.\")\n",
    "\n",
    "name = input(\"Enter Student Name: \")\n",
    "if not validate_name(name):\n",
    "    print(\"Invalid Name. Must contain only alphabets.\")\n",
    "else:\n",
    "    print(\"Name is valid.\")\n",
    "\n",
    "email = input(\"Enter Email: \")\n",
    "if not validate_email(email):\n",
    "    print(\"Invalid Email. Please enter a valid Email address.\")\n",
    "else:\n",
    "    print(\"Email is valid.\")\n",
    "\n",
    "mobileNo = input(\"Enter Mobile Number (10-digit number): \")\n",
    "if not validate_mobileNo(mobileNo):\n",
    "    print(\"Invalid Mobile Number. Must be a 10-digit number.\")\n",
    "else:\n",
    "    print(\"Mobile Number is valid.\")\n",
    "\n",
    "address = input(\"Enter Address (must contain both alphabets and numbers): \")\n",
    "if not validate_address(address):\n",
    "    print(\"Invalid Address. Must contain both alphabets and numbers.\")\n",
    "else:\n",
    "    print(\"Address is valid.\")\n",
    "\n",
    "gender = input(\"Enter Gender (male/female/other): \")\n",
    "if not validate_gender(gender):\n",
    "    print(\"Invalid Gender. Please enter 'male', 'female', or 'other'.\")\n",
    "else:\n",
    "    print(\"Gender is valid.\")\n",
    "\n",
    "dob = input(\"Enter DOB (yyyy-mm-dd): \")\n",
    "try:\n",
    "    if not validate_dob(dob):\n",
    "        print(\"Invalid DOB. Must be in the format yyyy-mm-dd and cannot be in the future.\")\n",
    "    else:\n",
    "        print(\"DOB is valid.\")\n",
    "except ValueError:\n",
    "    print(\"Invalid DOB format. Please enter in the format yyyy-mm-dd.\")\n",
    "\n",
    "try:\n",
    "    marks10th = float(input(\"Enter 10th-grade Marks (percentage): \"))\n",
    "    if not validate_marks10th(marks10th):\n",
    "        print(\"Invalid 10th-grade Marks. Must be greater than 60%.\")\n",
    "    else:\n",
    "        print(\"10th-grade Marks are valid.\")\n",
    "except ValueError:\n",
    "    print(\"Invalid input. Please enter numeric marks for 10th grade.\")\n",
    "\n",
    "try:\n",
    "    marks12th = float(input(\"Enter 12th-grade Marks (percentage): \"))\n",
    "    if not validate_marks12th(marks12th):\n",
    "        print(\"Invalid 12th-grade Marks. Must be greater than 60%.\")\n",
    "    else:\n",
    "        print(\"12th-grade Marks are valid.\")\n",
    "except ValueError:\n",
    "    print(\"Invalid input. Please enter numeric marks for 12th grade.\")\n"
   ]
  },
  {
   "cell_type": "code",
   "execution_count": null,
   "metadata": {},
   "outputs": [],
   "source": [
    "\n",
    "\n",
    "validate_adminId = lambda adminId: print(\"Valid AdminId\") if len(adminId) == 2 and adminId.isdigit() else print(\"Invalid AdminId. Must be a 2-digit number.\")\n",
    "\n",
    "validate_adminName = lambda adminName: print(\"Valid AdminName\") if adminName.isalpha() else print(\"Invalid AdminName. Must contain only alphabets.\")\n",
    "\n",
    "validate_studentId = lambda studentId: print(\"Valid StudentId\") if len(studentId) == 2 and studentId.isdigit() else print(\"Invalid StudentId. Must be a 2-digit number.\")\n",
    "\n",
    "\n",
    "adminId = input(\"Enter Admin ID (2-digit number): \")\n",
    "validate_adminId(adminId)\n",
    "\n",
    "adminName = input(\"Enter Admin Name: \")\n",
    "validate_adminName(adminName)\n",
    "\n",
    "studentId = input(\"Enter Student ID (2-digit number): \")\n",
    "validate_studentId(studentId)\n"
   ]
  }
 ],
 "metadata": {
  "kernelspec": {
   "display_name": "Python 3",
   "language": "python",
   "name": "python3"
  },
  "language_info": {
   "codemirror_mode": {
    "name": "ipython",
    "version": 3
   },
   "file_extension": ".py",
   "mimetype": "text/x-python",
   "name": "python",
   "nbconvert_exporter": "python",
   "pygments_lexer": "ipython3",
   "version": "3.12.6"
  }
 },
 "nbformat": 4,
 "nbformat_minor": 2
}
