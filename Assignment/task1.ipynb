{
 "cells": [
  {
   "cell_type": "markdown",
   "metadata": {},
   "source": [
    "Q1. Create the list of mix element by asking user to enter the values. Segregate the mixed data type list into two different list "
   ]
  },
  {
   "cell_type": "code",
   "execution_count": 3,
   "metadata": {},
   "outputs": [
    {
     "name": "stdout",
     "output_type": "stream",
     "text": [
      "Mixed list:  ['1', '2', '3', '4', '5', '[9,8,7,8]', '6.7', '7.8', '9.0']\n"
     ]
    }
   ],
   "source": [
    "mixed_list=[\"a\",\"b\",\"c\",\"d\",[1,2,3,4],1,3,4,5,(7,8,9,0),2.3,34.4,5.6,{\"g\",\"h\",\"k\"},9.8]\n",
    "strList,newList,intList,floatList,tupleList,setList=[],[],[],[],[],[]\n",
    "for i in mixed_list:\n",
    "  if type(i)==int:\n",
    "    intList.append(i)\n",
    "  elif type(i)==str:  \n",
    "    strList.append(i)\n",
    "  elif type(i)==list:\n",
    "    newList.extend(i)\n",
    "  elif type(i)==tuple:\n",
    "    tupleList.extend(i)\n",
    "  elif type(i)==set:\n",
    "    setList.extend(i)\n",
    "  else:\n",
    "    floatList.append(i)\n",
    "\n",
    "print(\"int \",intList)\n",
    "print(\"folat \",floatList)\n",
    "print(\"str \",strList)\n",
    "print(\"list \",newList)\n",
    "print(\"tuple \",tupleList)\n",
    "print(\"set \",setList)"
   ]
  },
  {
   "cell_type": "code",
   "execution_count": null,
   "metadata": {},
   "outputs": [],
   "source": []
  }
 ],
 "metadata": {
  "kernelspec": {
   "display_name": "Python 3",
   "language": "python",
   "name": "python3"
  },
  "language_info": {
   "codemirror_mode": {
    "name": "ipython",
    "version": 3
   },
   "file_extension": ".py",
   "mimetype": "text/x-python",
   "name": "python",
   "nbconvert_exporter": "python",
   "pygments_lexer": "ipython3",
   "version": "3.12.6"
  }
 },
 "nbformat": 4,
 "nbformat_minor": 2
}
