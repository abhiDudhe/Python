{
 "cells": [
  {
   "cell_type": "markdown",
   "metadata": {},
   "source": [
    "Q6. Calculate the age based on the date entered "
   ]
  },
  {
   "cell_type": "code",
   "execution_count": null,
   "metadata": {},
   "outputs": [],
   "source": [
    "from datetime import datetime\n",
    "\n",
    "def calculate_age(date_of_birth):\n",
    "    try:\n",
    "        dob = datetime.strptime(date_of_birth, \"%Y-%m-%d\")  # Format: YYYY-MM-DD\n",
    "        today = datetime.today()\n",
    "        \n",
    "      \n",
    "        age = today.year - dob.year - ((today.month, today.day) < (dob.month, dob.day))\n",
    "        return age\n",
    "    except ValueError:\n",
    "        return \"Invalid date format. Please use YYYY-MM-DD.\"\n",
    "\n",
    "\n",
    "dob_input = input(\"Enter your date of birth (YYYY-MM-DD): \")\n",
    "age = calculate_age(dob_input)\n",
    "\n",
    "if isinstance(age, int):\n",
    "    print(f\"Your age is: {age} years\")\n",
    "else:\n",
    "    print(age)\n"
   ]
  }
 ],
 "metadata": {
  "language_info": {
   "name": "python"
  }
 },
 "nbformat": 4,
 "nbformat_minor": 2
}
