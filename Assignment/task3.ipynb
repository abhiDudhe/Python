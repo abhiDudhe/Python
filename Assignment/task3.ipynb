{
 "cells": [
  {
   "cell_type": "markdown",
   "metadata": {},
   "source": [
    "Q3. Generate the bill with proper format to create the bill file. User may enter more than 1 element "
   ]
  },
  {
   "cell_type": "code",
   "execution_count": null,
   "metadata": {},
   "outputs": [],
   "source": [
    "#way 1st\n",
    "\n",
    "Title= \"WELCOME TO OUR SNAK CENTER\"\n",
    "dict1={1:[\"samosa\",20],2:[\"wadapav\",30],3:[\"tea\",20],4:[\"panipuri\",20],5:[\"Dahipuri\",20]}\n",
    "print(f\"||{\"-\":-^50}||\")\n",
    "print(f\"||{Title:^50}||\")\n",
    "print(f\"||{'=':=^50}||\")\n",
    "print(f\"||{\"OUR MENU\":^50}||\")\n",
    "print(f\"|| {\"  SR_No\":10} {\"Snacks\":^25} {\"PRICE\":>11} ||\")  \n",
    "print(f\"||{\"-\":-^50}||\")   \n",
    "for  i,j in dict1.items():\n",
    "  print(f\"|| {i:6} {j[0]:^25} {j[1]:>15} ||\") \n",
    "print(f\"||{\"=\":=^50}||\")\n",
    "\n",
    "\n",
    "\n",
    "price=0\n",
    "\n",
    "while True:\n",
    "  give_order=int(input(\"Enter the ItemNumber: \"))\n",
    "  Quantity=int(input(\"Enter the quntity : \"))\n",
    "  if give_order in dict1:\n",
    "    price=price+(dict1[give_order][1]*Quantity)\n",
    "    \n",
    "    return_order=int(input(\"place another order if Yes Press(1) if No Press(0) : \"))\n",
    "    if return_order >0 and return_order <2 :\n",
    "      continue\n",
    "    else:\n",
    "      print(\"Order Is Completed\")\n",
    "      price\n",
    "      print(price)\n",
    "      print(f\"||{\"-\":-^50}||\")\n",
    "      print(f\"||{\"Generated Bill\":^50}||\")\n",
    "      print(f\"||{'=':=^50}||\")\n",
    "      print(f\"||{\"OUR MENU\":^50}||\")\n",
    "      print(f\"|| {\"  SR_No\":10} {\"Snacks\":^25} {\"PRICE\":>11} ||\")  \n",
    "      print(f\"|| {dict1[give_order][0]:10} {Quantity:^25} {dict1[give_order][1]:>11} ||\") \n",
    "      print(f\"\\n| {\" \":10} {\"Total\":^25} {price:12}  |\")\n",
    "     \n",
    "      print(f\"||{\"-\":-^50}||\")   \n",
    "      price=0\n",
    "      \n",
    "    \n",
    "  \n",
    "  \n",
    "\n",
    "  \n",
    "  \n",
    "    \n",
    "  \n",
    "  \n",
    "  \n",
    "    \n",
    "\n",
    "  \n",
    "\n",
    "\n",
    "\n",
    "\n",
    "\n"
   ]
  }
 ],
 "metadata": {
  "language_info": {
   "name": "python"
  }
 },
 "nbformat": 4,
 "nbformat_minor": 2
}
